{
 "cells": [
  {
   "cell_type": "code",
   "execution_count": 33,
   "metadata": {},
   "outputs": [],
   "source": [
    "import numpy as np\n",
    "from keras.layers import Input, Dense\n",
    "from keras.models import Model\n",
    "from keras.datasets import mnist\n",
    "import matplotlib.pyplot as plt\n",
    "from keras import regularizers"
   ]
  },
  {
   "cell_type": "code",
   "execution_count": null,
   "metadata": {},
   "outputs": [],
   "source": []
  },
  {
   "cell_type": "code",
   "execution_count": 199,
   "metadata": {},
   "outputs": [],
   "source": [
    "input_dim = 784\n",
    "input_img = Input(shape=(input_dim,))\n",
    "hidden_dim = 100\n",
    "encoding_dim = int(input_dim / 2.5)\n",
    "learning_rate = 1e-7"
   ]
  },
  {
   "cell_type": "code",
   "execution_count": 200,
   "metadata": {},
   "outputs": [],
   "source": [
    "encoded = Dense(encoding_dim, activation=\"tanh\")(input_img)\n",
    "encoded = Dense(hidden_dim, activation=\"relu\")(encoded)\n",
    "decoded = Dense(hidden_dim, activation='tanh')(encoded)\n",
    "decoded = Dense(encoding_dim, activation='relu')(decoded)\n",
    "decoded = Dense(input_dim, activation='sigmoid')(decoded)"
   ]
  },
  {
   "cell_type": "code",
   "execution_count": 201,
   "metadata": {},
   "outputs": [],
   "source": [
    "autoencoder = Model(input_img, decoded)"
   ]
  },
  {
   "cell_type": "code",
   "execution_count": 202,
   "metadata": {},
   "outputs": [],
   "source": [
    "encoder = Model(input_img, encoded)\n",
    "encoded_input = Input(shape=(hidden_dim,))\n",
    "decoder_layer = autoencoder.layers[-2]\n",
    "decoder_layer2 = autoencoder.layers[-1]\n",
    "decoder = Model(encoded_input, decoder_layer2(decoder_layer(encoded_input)))"
   ]
  },
  {
   "cell_type": "code",
   "execution_count": 203,
   "metadata": {},
   "outputs": [],
   "source": [
    "autoencoder.compile(optimizer='adadelta', loss='binary_crossentropy')"
   ]
  },
  {
   "cell_type": "code",
   "execution_count": 204,
   "metadata": {},
   "outputs": [
    {
     "name": "stdout",
     "output_type": "stream",
     "text": [
      "(60000, 784)\n",
      "(10000, 784)\n"
     ]
    }
   ],
   "source": [
    "(x_train, _), (x_test, _) = mnist.load_data()\n",
    "x_train = x_train.astype('float32') / 255.\n",
    "x_test = x_test.astype('float32') / 255.\n",
    "x_train = x_train.reshape((len(x_train), np.prod(x_train.shape[1:])))\n",
    "x_test = x_test.reshape((len(x_test), np.prod(x_test.shape[1:])))\n",
    "print(x_train.shape)\n",
    "print(x_test.shape)"
   ]
  },
  {
   "cell_type": "code",
   "execution_count": 205,
   "metadata": {},
   "outputs": [
    {
     "name": "stdout",
     "output_type": "stream",
     "text": [
      "Epoch 1/100\n",
      "235/235 [==============================] - 2s 9ms/step - loss: 0.6932 - val_loss: 0.6930\n",
      "Epoch 2/100\n",
      "235/235 [==============================] - 2s 9ms/step - loss: 0.6928 - val_loss: 0.6926\n",
      "Epoch 3/100\n",
      "235/235 [==============================] - 2s 9ms/step - loss: 0.6924 - val_loss: 0.6922\n",
      "Epoch 4/100\n",
      "235/235 [==============================] - 2s 9ms/step - loss: 0.6921 - val_loss: 0.6918\n",
      "Epoch 5/100\n",
      "235/235 [==============================] - 2s 9ms/step - loss: 0.6917 - val_loss: 0.6915\n",
      "Epoch 6/100\n",
      "235/235 [==============================] - 2s 9ms/step - loss: 0.6913 - val_loss: 0.6911\n",
      "Epoch 7/100\n",
      "235/235 [==============================] - 2s 9ms/step - loss: 0.6909 - val_loss: 0.6907\n",
      "Epoch 8/100\n",
      "235/235 [==============================] - 2s 9ms/step - loss: 0.6905 - val_loss: 0.6903\n",
      "Epoch 9/100\n",
      "235/235 [==============================] - 2s 9ms/step - loss: 0.6901 - val_loss: 0.6899\n",
      "Epoch 10/100\n",
      "235/235 [==============================] - 2s 9ms/step - loss: 0.6897 - val_loss: 0.6895\n",
      "Epoch 11/100\n",
      "235/235 [==============================] - 2s 9ms/step - loss: 0.6893 - val_loss: 0.6891\n",
      "Epoch 12/100\n",
      "235/235 [==============================] - 2s 9ms/step - loss: 0.6889 - val_loss: 0.6886\n",
      "Epoch 13/100\n",
      "235/235 [==============================] - 2s 10ms/step - loss: 0.6885 - val_loss: 0.6882\n",
      "Epoch 14/100\n",
      "235/235 [==============================] - 2s 10ms/step - loss: 0.6880 - val_loss: 0.6877\n",
      "Epoch 15/100\n",
      "235/235 [==============================] - 2s 10ms/step - loss: 0.6876 - val_loss: 0.6873\n",
      "Epoch 16/100\n",
      "235/235 [==============================] - 2s 10ms/step - loss: 0.6871 - val_loss: 0.6868\n",
      "Epoch 17/100\n",
      "235/235 [==============================] - 2s 10ms/step - loss: 0.6867 - val_loss: 0.6863\n",
      "Epoch 18/100\n",
      "235/235 [==============================] - 2s 10ms/step - loss: 0.6862 - val_loss: 0.6858\n",
      "Epoch 19/100\n",
      "235/235 [==============================] - 2s 10ms/step - loss: 0.6857 - val_loss: 0.6853\n",
      "Epoch 20/100\n",
      "235/235 [==============================] - 2s 10ms/step - loss: 0.6852 - val_loss: 0.6848\n",
      "Epoch 21/100\n",
      "235/235 [==============================] - 2s 10ms/step - loss: 0.6846 - val_loss: 0.6842\n",
      "Epoch 22/100\n",
      "235/235 [==============================] - 2s 10ms/step - loss: 0.6841 - val_loss: 0.6837\n",
      "Epoch 23/100\n",
      "235/235 [==============================] - 2s 10ms/step - loss: 0.6835 - val_loss: 0.6831\n",
      "Epoch 24/100\n",
      "235/235 [==============================] - 2s 9ms/step - loss: 0.6829 - val_loss: 0.6825\n",
      "Epoch 25/100\n",
      "235/235 [==============================] - 2s 9ms/step - loss: 0.6823 - val_loss: 0.6818\n",
      "Epoch 26/100\n",
      "235/235 [==============================] - 2s 9ms/step - loss: 0.6816 - val_loss: 0.6812\n",
      "Epoch 27/100\n",
      "235/235 [==============================] - 2s 9ms/step - loss: 0.6810 - val_loss: 0.6805\n",
      "Epoch 28/100\n",
      "235/235 [==============================] - 2s 9ms/step - loss: 0.6803 - val_loss: 0.6798\n",
      "Epoch 29/100\n",
      "235/235 [==============================] - 2s 9ms/step - loss: 0.6795 - val_loss: 0.6790\n",
      "Epoch 30/100\n",
      "235/235 [==============================] - 2s 9ms/step - loss: 0.6788 - val_loss: 0.6782\n",
      "Epoch 31/100\n",
      "235/235 [==============================] - 2s 9ms/step - loss: 0.6780 - val_loss: 0.6774\n",
      "Epoch 32/100\n",
      "235/235 [==============================] - 2s 9ms/step - loss: 0.6771 - val_loss: 0.6765\n",
      "Epoch 33/100\n",
      "235/235 [==============================] - 2s 9ms/step - loss: 0.6763 - val_loss: 0.6756\n",
      "Epoch 34/100\n",
      "235/235 [==============================] - 2s 9ms/step - loss: 0.6753 - val_loss: 0.6747\n",
      "Epoch 35/100\n",
      "235/235 [==============================] - 2s 9ms/step - loss: 0.6744 - val_loss: 0.6737\n",
      "Epoch 36/100\n",
      "235/235 [==============================] - 2s 9ms/step - loss: 0.6734 - val_loss: 0.6726\n",
      "Epoch 37/100\n",
      "235/235 [==============================] - 2s 10ms/step - loss: 0.6723 - val_loss: 0.6715\n",
      "Epoch 38/100\n",
      "235/235 [==============================] - 2s 9ms/step - loss: 0.6712 - val_loss: 0.6704\n",
      "Epoch 39/100\n",
      "235/235 [==============================] - 2s 9ms/step - loss: 0.6701 - val_loss: 0.6692\n",
      "Epoch 40/100\n",
      "235/235 [==============================] - 2s 9ms/step - loss: 0.6688 - val_loss: 0.6679\n",
      "Epoch 41/100\n",
      "235/235 [==============================] - 2s 9ms/step - loss: 0.6676 - val_loss: 0.6666\n",
      "Epoch 42/100\n",
      "235/235 [==============================] - 2s 9ms/step - loss: 0.6662 - val_loss: 0.6652\n",
      "Epoch 43/100\n",
      "235/235 [==============================] - 2s 9ms/step - loss: 0.6648 - val_loss: 0.6638\n",
      "Epoch 44/100\n",
      "235/235 [==============================] - 2s 9ms/step - loss: 0.6633 - val_loss: 0.6622\n",
      "Epoch 45/100\n",
      "235/235 [==============================] - 2s 9ms/step - loss: 0.6618 - val_loss: 0.6606\n",
      "Epoch 46/100\n",
      "235/235 [==============================] - 2s 9ms/step - loss: 0.6602 - val_loss: 0.6590\n",
      "Epoch 47/100\n",
      "235/235 [==============================] - 2s 9ms/step - loss: 0.6584 - val_loss: 0.6572\n",
      "Epoch 48/100\n",
      "235/235 [==============================] - 2s 9ms/step - loss: 0.6566 - val_loss: 0.6553\n",
      "Epoch 49/100\n",
      "235/235 [==============================] - 2s 9ms/step - loss: 0.6548 - val_loss: 0.6534\n",
      "Epoch 50/100\n",
      "235/235 [==============================] - 2s 9ms/step - loss: 0.6528 - val_loss: 0.6514\n",
      "Epoch 51/100\n",
      "235/235 [==============================] - 2s 9ms/step - loss: 0.6507 - val_loss: 0.6492\n",
      "Epoch 52/100\n",
      "235/235 [==============================] - 2s 9ms/step - loss: 0.6486 - val_loss: 0.6470\n",
      "Epoch 53/100\n",
      "235/235 [==============================] - 2s 9ms/step - loss: 0.6463 - val_loss: 0.6447\n",
      "Epoch 54/100\n",
      "235/235 [==============================] - 2s 9ms/step - loss: 0.6439 - val_loss: 0.6423\n",
      "Epoch 55/100\n",
      "235/235 [==============================] - 2s 9ms/step - loss: 0.6415 - val_loss: 0.6397\n",
      "Epoch 56/100\n",
      "235/235 [==============================] - 2s 9ms/step - loss: 0.6389 - val_loss: 0.6371\n",
      "Epoch 57/100\n",
      "235/235 [==============================] - 2s 9ms/step - loss: 0.6362 - val_loss: 0.6343\n",
      "Epoch 58/100\n",
      "235/235 [==============================] - 2s 9ms/step - loss: 0.6334 - val_loss: 0.6314\n",
      "Epoch 59/100\n",
      "235/235 [==============================] - 2s 9ms/step - loss: 0.6304 - val_loss: 0.6284\n",
      "Epoch 60/100\n",
      "235/235 [==============================] - 2s 9ms/step - loss: 0.6274 - val_loss: 0.6253\n",
      "Epoch 61/100\n",
      "235/235 [==============================] - 2s 9ms/step - loss: 0.6242 - val_loss: 0.6220\n",
      "Epoch 62/100\n",
      "235/235 [==============================] - 2s 9ms/step - loss: 0.6209 - val_loss: 0.6186\n",
      "Epoch 63/100\n",
      "235/235 [==============================] - 2s 9ms/step - loss: 0.6175 - val_loss: 0.6151\n",
      "Epoch 64/100\n",
      "235/235 [==============================] - 2s 9ms/step - loss: 0.6139 - val_loss: 0.6115\n",
      "Epoch 65/100\n",
      "235/235 [==============================] - 2s 9ms/step - loss: 0.6102 - val_loss: 0.6077\n",
      "Epoch 66/100\n",
      "235/235 [==============================] - 2s 10ms/step - loss: 0.6064 - val_loss: 0.6039\n",
      "Epoch 67/100\n",
      "235/235 [==============================] - 2s 10ms/step - loss: 0.6025 - val_loss: 0.5999\n",
      "Epoch 68/100\n",
      "235/235 [==============================] - 2s 10ms/step - loss: 0.5985 - val_loss: 0.5957\n",
      "Epoch 69/100\n",
      "235/235 [==============================] - 2s 9ms/step - loss: 0.5943 - val_loss: 0.5915\n",
      "Epoch 70/100\n",
      "235/235 [==============================] - 2s 10ms/step - loss: 0.5900 - val_loss: 0.5871\n",
      "Epoch 71/100\n",
      "235/235 [==============================] - 2s 10ms/step - loss: 0.5856 - val_loss: 0.5826\n",
      "Epoch 72/100\n",
      "235/235 [==============================] - 2s 9ms/step - loss: 0.5810 - val_loss: 0.5780\n",
      "Epoch 73/100\n",
      "235/235 [==============================] - 2s 10ms/step - loss: 0.5764 - val_loss: 0.5733\n",
      "Epoch 74/100\n",
      "235/235 [==============================] - 2s 10ms/step - loss: 0.5716 - val_loss: 0.5685\n",
      "Epoch 75/100\n",
      "235/235 [==============================] - 2s 10ms/step - loss: 0.5668 - val_loss: 0.5636\n",
      "Epoch 76/100\n",
      "235/235 [==============================] - 2s 10ms/step - loss: 0.5618 - val_loss: 0.5585\n",
      "Epoch 77/100\n",
      "235/235 [==============================] - 2s 10ms/step - loss: 0.5567 - val_loss: 0.5534\n",
      "Epoch 78/100\n",
      "235/235 [==============================] - 2s 10ms/step - loss: 0.5515 - val_loss: 0.5482\n",
      "Epoch 79/100\n",
      "235/235 [==============================] - 2s 10ms/step - loss: 0.5463 - val_loss: 0.5429\n",
      "Epoch 80/100\n",
      "235/235 [==============================] - 2s 10ms/step - loss: 0.5409 - val_loss: 0.5375\n",
      "Epoch 81/100\n"
     ]
    },
    {
     "name": "stdout",
     "output_type": "stream",
     "text": [
      "235/235 [==============================] - 2s 10ms/step - loss: 0.5355 - val_loss: 0.5321\n",
      "Epoch 82/100\n",
      "235/235 [==============================] - 2s 10ms/step - loss: 0.5300 - val_loss: 0.5266\n",
      "Epoch 83/100\n",
      "235/235 [==============================] - 2s 10ms/step - loss: 0.5245 - val_loss: 0.5210\n",
      "Epoch 84/100\n",
      "235/235 [==============================] - 2s 10ms/step - loss: 0.5189 - val_loss: 0.5154\n",
      "Epoch 85/100\n",
      "235/235 [==============================] - 2s 10ms/step - loss: 0.5133 - val_loss: 0.5097\n",
      "Epoch 86/100\n",
      "235/235 [==============================] - 2s 10ms/step - loss: 0.5076 - val_loss: 0.5040\n",
      "Epoch 87/100\n",
      "235/235 [==============================] - 2s 10ms/step - loss: 0.5019 - val_loss: 0.4983\n",
      "Epoch 88/100\n",
      "235/235 [==============================] - 2s 10ms/step - loss: 0.4962 - val_loss: 0.4926\n",
      "Epoch 89/100\n",
      "235/235 [==============================] - 2s 10ms/step - loss: 0.4904 - val_loss: 0.4869\n",
      "Epoch 90/100\n",
      "235/235 [==============================] - 2s 10ms/step - loss: 0.4847 - val_loss: 0.4812\n",
      "Epoch 91/100\n",
      "235/235 [==============================] - 2s 9ms/step - loss: 0.4790 - val_loss: 0.4755\n",
      "Epoch 92/100\n",
      "235/235 [==============================] - 2s 8ms/step - loss: 0.4733 - val_loss: 0.4698\n",
      "Epoch 93/100\n",
      "235/235 [==============================] - 2s 8ms/step - loss: 0.4676 - val_loss: 0.4641\n",
      "Epoch 94/100\n",
      "235/235 [==============================] - 2s 9ms/step - loss: 0.4620 - val_loss: 0.4585\n",
      "Epoch 95/100\n",
      "235/235 [==============================] - 2s 9ms/step - loss: 0.4564 - val_loss: 0.4530\n",
      "Epoch 96/100\n",
      "235/235 [==============================] - 2s 9ms/step - loss: 0.4508 - val_loss: 0.4475\n",
      "Epoch 97/100\n",
      "235/235 [==============================] - 2s 9ms/step - loss: 0.4454 - val_loss: 0.4420\n",
      "Epoch 98/100\n",
      "235/235 [==============================] - 2s 9ms/step - loss: 0.4400 - val_loss: 0.4367\n",
      "Epoch 99/100\n",
      "235/235 [==============================] - 2s 9ms/step - loss: 0.4346 - val_loss: 0.4314\n",
      "Epoch 100/100\n",
      "235/235 [==============================] - 2s 9ms/step - loss: 0.4294 - val_loss: 0.4262\n"
     ]
    },
    {
     "data": {
      "text/plain": [
       "<tensorflow.python.keras.callbacks.History at 0x7fdb004d5fd0>"
      ]
     },
     "execution_count": 205,
     "metadata": {},
     "output_type": "execute_result"
    }
   ],
   "source": [
    "autoencoder.fit(x_train, x_train,\n",
    "epochs=100,\n",
    "batch_size=256,\n",
    "shuffle=True,\n",
    "validation_data=(x_test, x_test))"
   ]
  },
  {
   "cell_type": "code",
   "execution_count": 206,
   "metadata": {},
   "outputs": [],
   "source": [
    "encoded_imgs = encoder.predict(x_test)\n",
    "decoded_imgs = decoder.predict(encoded_imgs)"
   ]
  },
  {
   "cell_type": "code",
   "execution_count": 207,
   "metadata": {},
   "outputs": [
    {
     "data": {
      "image/png": "[encoded data removed]",
      "text/plain": [
       "<Figure size 1440x288 with 20 Axes>"
      ]
     },
     "metadata": {
      "needs_background": "light"
     },
     "output_type": "display_data"
    }
   ],
   "source": [
    "n = 10\n",
    "plt.figure(figsize=(20, 4))\n",
    "for i in range(n):\n",
    "    ax = plt.subplot(2, n, i + 1)\n",
    "    plt.imshow(x_test[i].reshape(28, 28))\n",
    "    plt.gray()\n",
    "    ax.get_xaxis().set_visible(False)\n",
    "    ax.get_yaxis().set_visible(False)\n",
    "    \n",
    "    ax = plt.subplot(2, n, i + 1 + n)\n",
    "    plt.imshow(decoded_imgs[i].reshape(28, 28))\n",
    "    plt.gray()\n",
    "    ax.get_xaxis().set_visible(False)\n",
    "    ax.get_yaxis().set_visible(False)"
   ]
  },
  {
   "cell_type": "code",
   "execution_count": null,
   "metadata": {},
   "outputs": [],
   "source": []
  },
  {
   "cell_type": "code",
   "execution_count": 27,
   "metadata": {},
   "outputs": [],
   "source": [
    "plt.show()"
   ]
  },
  {
   "cell_type": "code",
   "execution_count": null,
   "metadata": {},
   "outputs": [],
   "source": []
  }
 ],
 "metadata": {
  "kernelspec": {
   "display_name": "Python 3",
   "language": "python",
   "name": "python3"
  },
  "language_info": {
   "codemirror_mode": {
    "name": "ipython",
    "version": 3
   },
   "file_extension": ".py",
   "mimetype": "text/x-python",
   "name": "python",
   "nbconvert_exporter": "python",
   "pygments_lexer": "ipython3",
   "version": "3.8.5"
  }
 },
 "nbformat": 4,
 "nbformat_minor": 4
}
